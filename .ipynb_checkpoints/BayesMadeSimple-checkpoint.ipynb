{
 "metadata": {
  "name": "",
  "signature": "sha256:77d6af5901adea30242c63b6ffd834e68af39ac3cbc52c47d2161824cabb6ddd"
 },
 "nbformat": 3,
 "nbformat_minor": 0,
 "worksheets": [
  {
   "cells": [
    {
     "cell_type": "raw",
     "metadata": {},
     "source": [
      "web page for the workshop:\n",
      "\n",
      "http://olin.us3.list-manage1.com/track/click?u=17135ec7f31a690910a6d2790&id=3cf7faf611&e=2ed62d2d97\n",
      "\n",
      "This page contains information about the software we will use and instructions for setting up your software environment. "
     ]
    },
    {
     "cell_type": "raw",
     "metadata": {},
     "source": [
      "#Pycon2014 version also available from here:\n",
      "https://www.youtube.com/watch?v=z_sIDLVisvA"
     ]
    },
    {
     "cell_type": "code",
     "collapsed": false,
     "input": [
      "%run dice.py"
     ],
     "language": "python",
     "metadata": {},
     "outputs": [
      {
       "output_type": "stream",
       "stream": "stdout",
       "text": [
        "After one 6\n",
        "4 0.2\n",
        "6 0.2\n",
        "8 0.2\n",
        "12 0.2\n",
        "20 0.2\n",
        "After more rolls\n",
        "4 0.2\n",
        "6 0.2\n",
        "8 0.2\n",
        "12 0.2\n",
        "20 0.2\n"
       ]
      }
     ],
     "prompt_number": 2
    },
    {
     "cell_type": "code",
     "collapsed": false,
     "input": [
      "%run dice_soln.py"
     ],
     "language": "python",
     "metadata": {},
     "outputs": [
      {
       "output_type": "stream",
       "stream": "stdout",
       "text": [
        "After one 6\n",
        "4 0.0\n",
        "6 0.392156862745\n",
        "8 0.294117647059\n",
        "12 0.196078431373\n",
        "20 0.117647058824\n",
        "After more rolls\n",
        "4 0.0\n",
        "6 0.0\n",
        "8 0.915845271969\n",
        "12 0.080403425797\n",
        "20 0.00375130223399\n"
       ]
      }
     ],
     "prompt_number": 3
    },
    {
     "cell_type": "code",
     "collapsed": false,
     "input": [
      "matplotlib inline"
     ],
     "language": "python",
     "metadata": {},
     "outputs": [],
     "prompt_number": 8
    },
    {
     "cell_type": "code",
     "collapsed": false,
     "input": [
      "from thinkbayes import Pmf"
     ],
     "language": "python",
     "metadata": {},
     "outputs": [],
     "prompt_number": 4
    },
    {
     "cell_type": "code",
     "collapsed": false,
     "input": [
      "#empty pmf\n",
      "d6 = Pmf()"
     ],
     "language": "python",
     "metadata": {},
     "outputs": [],
     "prompt_number": 5
    },
    {
     "cell_type": "code",
     "collapsed": false,
     "input": [
      "# outcomes of a six-sided die\n",
      "for x in [1,2,3,4,5,6]:\n",
      "    d6.Set(x,1)"
     ],
     "language": "python",
     "metadata": {},
     "outputs": [],
     "prompt_number": 6
    },
    {
     "cell_type": "code",
     "collapsed": false,
     "input": [
      "d6.Print()"
     ],
     "language": "python",
     "metadata": {},
     "outputs": [
      {
       "output_type": "stream",
       "stream": "stdout",
       "text": [
        "1 1\n",
        "2 1\n",
        "3 1\n",
        "4 1\n",
        "5 1\n",
        "6 1\n"
       ]
      }
     ],
     "prompt_number": 9
    },
    {
     "cell_type": "code",
     "collapsed": false,
     "input": [
      "d6.Normalize()\n",
      "#this is the "
     ],
     "language": "python",
     "metadata": {},
     "outputs": [
      {
       "metadata": {},
       "output_type": "pyout",
       "prompt_number": 10,
       "text": [
        "6"
       ]
      }
     ],
     "prompt_number": 10
    },
    {
     "cell_type": "code",
     "collapsed": false,
     "input": [
      "d6.Print()"
     ],
     "language": "python",
     "metadata": {},
     "outputs": [
      {
       "output_type": "stream",
       "stream": "stdout",
       "text": [
        "1 0.166666666667\n",
        "2 0.166666666667\n",
        "3 0.166666666667\n",
        "4 0.166666666667\n",
        "5 0.166666666667\n",
        "6 0.166666666667\n"
       ]
      }
     ],
     "prompt_number": 11
    },
    {
     "cell_type": "code",
     "collapsed": false,
     "input": [
      "pmf =Pmf()"
     ],
     "language": "python",
     "metadata": {},
     "outputs": [],
     "prompt_number": 12
    },
    {
     "cell_type": "code",
     "collapsed": false,
     "input": [
      "pmf.Set('Bowl 1', 0.5)\n",
      "pmf.Set('Bowl 2', 0.5)"
     ],
     "language": "python",
     "metadata": {},
     "outputs": [],
     "prompt_number": 13
    },
    {
     "cell_type": "code",
     "collapsed": false,
     "input": [
      "pmf.Mult('Bowl 1', 0.75)\n",
      "pmf.Mult('Bowl 2', 0.5)"
     ],
     "language": "python",
     "metadata": {},
     "outputs": [],
     "prompt_number": 14
    },
    {
     "cell_type": "code",
     "collapsed": false,
     "input": [
      "pmf.Normalize()\n",
      "#pmf is a dictionary\n",
      "#returns the denominator--the normalizing constant--\n",
      "#5/8"
     ],
     "language": "python",
     "metadata": {},
     "outputs": [
      {
       "metadata": {},
       "output_type": "pyout",
       "prompt_number": 15,
       "text": [
        "0.625"
       ]
      }
     ],
     "prompt_number": 15
    },
    {
     "cell_type": "code",
     "collapsed": false,
     "input": [
      "print pmf.Prob('Bowl 1')"
     ],
     "language": "python",
     "metadata": {},
     "outputs": [
      {
       "output_type": "stream",
       "stream": "stdout",
       "text": [
        "0.6\n"
       ]
      }
     ],
     "prompt_number": 17
    },
    {
     "cell_type": "code",
     "collapsed": false,
     "input": [
      "pmf.Print()\n",
      "#one vanilla cookie\n",
      "#more likely "
     ],
     "language": "python",
     "metadata": {},
     "outputs": [
      {
       "output_type": "stream",
       "stream": "stdout",
       "text": [
        "Bowl 1 0.6\n",
        "Bowl 2 0.4\n"
       ]
      }
     ],
     "prompt_number": 18
    },
    {
     "cell_type": "code",
     "collapsed": false,
     "input": [
      "pmf.Mult('Bowl 1', 0.25)\n",
      "pmf.Mult('Bowl 2', 0.5)\n",
      "#one vanilla, one chocolate"
     ],
     "language": "python",
     "metadata": {},
     "outputs": [],
     "prompt_number": 19
    },
    {
     "cell_type": "code",
     "collapsed": false,
     "input": [
      "pmf.Normalize()\n",
      "# 1 divided by the sum of the numerators: P(D)"
     ],
     "language": "python",
     "metadata": {},
     "outputs": [
      {
       "metadata": {},
       "output_type": "pyout",
       "prompt_number": 20,
       "text": [
        "0.35000000000000003"
       ]
      }
     ],
     "prompt_number": 20
    },
    {
     "cell_type": "code",
     "collapsed": false,
     "input": [
      "#posterior probabilities\n",
      "pmf.Print()\n",
      "# having seen one chocolate and one vanilla. Now more likely to be bowl 2.\n",
      "#Bayes Theorum"
     ],
     "language": "python",
     "metadata": {},
     "outputs": [
      {
       "output_type": "stream",
       "stream": "stdout",
       "text": [
        "Bowl 1 0.428571428571\n",
        "Bowl 2 0.571428571429\n"
       ]
      }
     ],
     "prompt_number": 22
    },
    {
     "cell_type": "heading",
     "level": 1,
     "metadata": {},
     "source": [
      "DICE"
     ]
    },
    {
     "cell_type": "code",
     "collapsed": false,
     "input": [
      "#suite"
     ],
     "language": "python",
     "metadata": {},
     "outputs": []
    },
    {
     "cell_type": "code",
     "collapsed": false,
     "input": [
      "%load dice.py"
     ],
     "language": "python",
     "metadata": {},
     "outputs": [],
     "prompt_number": 23
    },
    {
     "cell_type": "code",
     "collapsed": false,
     "input": [
      "\"\"\"This file contains code for use with \"Think Bayes\",\n",
      "by Allen B. Downey, available from greenteapress.com\n",
      "\n",
      "Copyright 2012 Allen B. Downey\n",
      "License: GNU GPLv3 http://www.gnu.org/licenses/gpl.html\n",
      "\"\"\"\n",
      "\n",
      "from thinkbayes import Suite\n",
      "\n",
      "\n",
      "class Dice(Suite):\n",
      "    \"\"\"Represents hypotheses about which die was rolled.\"\"\"\n",
      "\n",
      "    def Likelihood(self, data, hypo):\n",
      "        \"\"\"Computes the likelihood of the data under the hypothesis.\n",
      "\n",
      "        hypo: integer number of sides on the die\n",
      "        data: integer die roll\n",
      "        \"\"\"\n",
      "        # write this method\n",
      "        if hypo < data:\n",
      "            return 0\n",
      "        else:\n",
      "            return 1.0/hypo\n",
      "    \n",
      "# hypo is the number of sides on the die\n",
      "# data is the outcome\n",
      "#sides= hypo\n",
      "#outcome =data\n",
      "\n",
      "\n",
      "def main():\n",
      "    suite = Dice([4, 6, 8, 12, 20])\n",
      "\n",
      "    suite.Update(6)\n",
      "    print 'After one 6'\n",
      "    suite.Print()\n",
      "\n",
      "    for roll in [8, 7, 7, 5, 4]:\n",
      "        suite.Update(roll)\n",
      "\n",
      "    print 'After more rolls'\n",
      "    suite.Print()\n",
      "\n",
      "\n",
      "if __name__ == '__main__':\n",
      "    main()\n",
      "\n",
      "#rolling the same die every time.\n",
      "#not making new selections.\n",
      "#looking like D8.\n",
      "#change one result to 20-- and D20 will change to 1, and the others to 0."
     ],
     "language": "python",
     "metadata": {},
     "outputs": [
      {
       "output_type": "stream",
       "stream": "stdout",
       "text": [
        "After one 6\n",
        "4 0.0\n",
        "6 0.392156862745\n",
        "8 0.294117647059\n",
        "12 0.196078431373\n",
        "20 0.117647058824\n",
        "After more rolls\n",
        "4 0.0\n",
        "6 0.0\n",
        "8 0.915845271969\n",
        "12 0.080403425797\n",
        "20 0.00375130223399\n"
       ]
      }
     ],
     "prompt_number": 28
    },
    {
     "cell_type": "code",
     "collapsed": false,
     "input": [
      "#Total function\n",
      "pmf.Total()"
     ],
     "language": "python",
     "metadata": {},
     "outputs": [
      {
       "metadata": {},
       "output_type": "pyout",
       "prompt_number": 30,
       "text": [
        "1.0"
       ]
      }
     ],
     "prompt_number": 30
    },
    {
     "cell_type": "code",
     "collapsed": false,
     "input": [
      "TRAIN EXAMPLE"
     ],
     "language": "python",
     "metadata": {},
     "outputs": []
    },
    {
     "cell_type": "code",
     "collapsed": false,
     "input": [
      "%load train.py"
     ],
     "language": "python",
     "metadata": {},
     "outputs": [],
     "prompt_number": 31
    },
    {
     "cell_type": "code",
     "collapsed": false,
     "input": [
      "\"\"\"This file contains code for use with \"Think Bayes\",\n",
      "by Allen B. Downey, available from greenteapress.com\n",
      "\n",
      "Copyright 2012 Allen B. Downey\n",
      "License: GNU GPLv3 http://www.gnu.org/licenses/gpl.html\n",
      "\"\"\"\n",
      "\n",
      "import thinkbayes\n",
      "import thinkplot\n",
      "\n",
      "\n",
      "class Train(thinkbayes.Suite):\n",
      "    \"\"\"Represents hypotheses about how many trains the company has.\n",
      "\n",
      "    The likelihood function for the train problem is the same as\n",
      "    for the Dice problem.\n",
      "    \"\"\"\n",
      "    def Likelihood(self, data, hypo):\n",
      "        \"\"\"Computes the likelihood of the data under the hypothesis.\n",
      "\n",
      "        hypo: number of trains the carrier operates\n",
      "        data: the number of the observed train\n",
      "        \"\"\"\n",
      "        # fill this in!\n",
      "       # return 1\n",
      "        # write this method\n",
      "        if hypo < data:\n",
      "            return 0\n",
      "        else:\n",
      "            return 1.0/hypo\n",
      "\n",
      "\n",
      "def main():\n",
      "    hypos = xrange(100, 1001)\n",
      "    suite = Train(hypos)\n",
      "\n",
      "    suite.Update(321)\n",
      "    print suite.Mean()\n",
      "    print suite.MaximumLikelihood()\n",
      "    print suite.CredibleInterval(90)\n",
      "\n",
      "    thinkplot.PrePlot(1)\n",
      "    thinkplot.Pmf(suite)\n",
      "    thinkplot.Show(xlabel='Number of trains',\n",
      "                   ylabel='Probability')\n",
      "\n",
      "\n",
      "if __name__ == '__main__':\n",
      "    main()\n",
      "\n",
      "    #same -- rolling die with # of train. 324 side, getting 321.\n",
      "    \n",
      "    #he used num_trains= hypo\n",
      "    #train_seen =data\n",
      "    \n",
      "#mean is 597\n",
      "#321 is most likely.\n",
      "# 90% mostly like range is 339 to 945\n",
      "# a wide range, given one train viewed.\n",
      "#with micro data. Small inferences.\n",
      "\n",
      "###**** do more updates with other train numbers."
     ],
     "language": "python",
     "metadata": {},
     "outputs": [
      {
       "output_type": "stream",
       "stream": "stdout",
       "text": [
        "597.344008084\n",
        "321\n",
        "(339, 945)\n"
       ]
      },
      {
       "metadata": {},
       "output_type": "display_data",
       "png": "[encoded data removed]",
       "text": [
        "<matplotlib.figure.Figure at 0x7f8e20a6d890>"
       ]
      }
     ],
     "prompt_number": 40
    },
    {
     "cell_type": "code",
     "collapsed": false,
     "input": [
      "#prior is a flat line.\n",
      "# revised starts at 321, and probability decreases  for each additional train."
     ],
     "language": "python",
     "metadata": {},
     "outputs": []
    },
    {
     "cell_type": "heading",
     "level": 1,
     "metadata": {},
     "source": [
      "EURO"
     ]
    },
    {
     "cell_type": "code",
     "collapsed": false,
     "input": [
      "%load euro.py"
     ],
     "language": "python",
     "metadata": {},
     "outputs": [],
     "prompt_number": 41
    },
    {
     "cell_type": "code",
     "collapsed": false,
     "input": [
      "\"\"\"This file contains code used in \"Think Stats\",\n",
      "by Allen B. Downey, available from greenteapress.com\n",
      "\n",
      "Copyright 2013 Allen B. Downey\n",
      "License: GNU GPLv3 http://www.gnu.org/licenses/gpl.html\n",
      "\"\"\"\n",
      "\n",
      "\"\"\"This file contains a partial solution to a problem from\n",
      "MacKay, \"Information Theory, Inference, and Learning Algorithms.\"\n",
      "\n",
      "    Exercise 3.15 (page 50): A statistical statement appeared in\n",
      "    \"The Guardian\" on Friday January 4, 2002:\n",
      "\n",
      "        When spun on edge 250 times, a Belgian one-euro coin came\n",
      "        up heads 140 times and tails 110.  'It looks very suspicious\n",
      "        to me,' said Barry Blight, a statistics lecturer at the London\n",
      "        School of Economics.  'If the coin weere unbiased, the chance of\n",
      "        getting a result as extreme as that would be less than 7%.'\n",
      "\n",
      "MacKay asks, \"But do these data give evidence that the coin is biased\n",
      "rather than fair?\"\n",
      "\n",
      "\"\"\"\n",
      "\n",
      "import thinkbayes\n",
      "import thinkplot\n",
      "\n",
      "\n",
      "class Euro(thinkbayes.Suite):\n",
      "\n",
      "    def Likelihood(self, data, hypo):\n",
      "        \"\"\"Computes the likelihood of the data under the hypothesis.\n",
      "\n",
      "        hypo: integer value of x, the probability of heads (0-100)\n",
      "        data: string 'H' or 'T'\n",
      "        \"\"\"\n",
      "        #\n",
      "        # fill this in!\n",
      "       ### remove this: return 1 # this is the uniform prior.\n",
      "        x =hypo/100.0\n",
      "        if data == 'H':\n",
      "            return x\n",
      "        else:\n",
      "            return 1-x\n",
      "        #\n",
      "\n",
      "def main():\n",
      "    suite = Euro(range(0, 101))\n",
      "    \n",
      "   # suite.Update('H')\n",
      "   # suite.Update('H')\n",
      "   # suite.Update('T')\n",
      "    \n",
      "    evidence = 'H' * 140 + 'T' * 110 \n",
      "    for outcome in evidence:\n",
      "       suite.Update(outcome)\n",
      "        \n",
      "# placement of this?     suite.Prob(50)   \n",
      "#outside the for loop.\n",
      "#needed print\n",
      "    print suite.Prob(50) \n",
      "    print pmf.MaximumLikelihood()\n",
      "    print suite.Mean()\n",
      "\n",
      "    thinkplot.Pmf(suite)\n",
      "    thinkplot.Show(xlabel='x',\n",
      "                ylabel='Probability')\n",
      "\n",
      "    \n",
      "    \n",
      "    ###suite.Prob(50)    \n",
      "\n",
      "if __name__ == '__main__':\n",
      "    main()\n",
      "#triangle shaped distribution.\n",
      "#from a constant to a line to a parabola.\n",
      "# now tails. \n",
      "#    suite.Update('T')\n",
      "#eliminates all heads.\n",
      "# so 66.7% 2/3  chance it is heads\n",
      "\n",
      "#frequentist-- confidence interval-- hard to grasp\n",
      "#green and blue converge\n",
      "#converge onthe same posterior\n",
      "#swamping the prior.\n",
      "#priors subjective-- but will converge on approximate beliefs."
     ],
     "language": "python",
     "metadata": {},
     "outputs": [
      {
       "output_type": "stream",
       "stream": "stdout",
       "text": [
        "0.0209765261295\n",
        "Bowl 2\n",
        "55.9523809524\n"
       ]
      },
      {
       "metadata": {},
       "output_type": "display_data",
       "png": "[encoded data removed]",
       "text": [
        "<matplotlib.figure.Figure at 0x7f8e20afbbd0>"
       ]
      }
     ],
     "prompt_number": 56
    },
    {
     "cell_type": "raw",
     "metadata": {},
     "source": [
      "BAYES FACTOR\n",
      "D is evidence in favor of H if\n",
      "p(H|D) > p(H)\n",
      "which is true if\n",
      "p(D|H) > p(D|~H)\n",
      "or equivalently if\n",
      "p(D|H) / p(D|~H) > 1\n",
      "\n"
     ]
    },
    {
     "cell_type": "code",
     "collapsed": false,
     "input": [
      "%load euro2.py"
     ],
     "language": "python",
     "metadata": {},
     "outputs": [],
     "prompt_number": 57
    },
    {
     "cell_type": "code",
     "collapsed": false,
     "input": [
      "\"\"\"This file contains code used in \"Think Stats\",\n",
      "by Allen B. Downey, available from greenteapress.com\n",
      "\n",
      "Copyright 2013 Allen B. Downey\n",
      "License: GNU GPLv3 http://www.gnu.org/licenses/gpl.html\n",
      "\"\"\"\n",
      "\n",
      "\"\"\"This file contains a partial solution to a problem from\n",
      "MacKay, \"Information Theory, Inference, and Learning Algorithms.\"\n",
      "\n",
      "    Exercise 3.15 (page 50): A statistical statement appeared in\n",
      "    \"The Guardian\" on Friday January 4, 2002:\n",
      "\n",
      "        When spun on edge 250 times, a Belgian one-euro coin came\n",
      "        up heads 140 times and tails 110.  'It looks very suspicious\n",
      "        to me,' said Barry Blight, a statistics lecturer at the London\n",
      "        School of Economics.  'If the coin weere unbiased, the chance of\n",
      "        getting a result as extreme as that would be less than 7%.'\n",
      "\n",
      "MacKay asks, \"But do these data give evidence that the coin is biased\n",
      "rather than fair?\"\n",
      "\n",
      "\"\"\"\n",
      "\n",
      "import thinkbayes\n",
      "\n",
      "\n",
      "class Euro(thinkbayes.Suite):\n",
      "\n",
      "    def Likelihood(self, data, hypo):\n",
      "        \"\"\"Computes the likelihood of the data under the hypothesis.\n",
      "\n",
      "        hypo: integer value of x, the probability of heads (0-100)\n",
      "        data: tuple (#heads, #tails)\n",
      "        \"\"\"\n",
      "        x = hypo / 100.0\n",
      "        heads, tails = data\n",
      "        like = x**heads * (1-x)**tails\n",
      "        return like\n",
      "#binomial distribution\n",
      "#see wikipedia\n",
      "\n",
      "def AverageLikelihood(suite, data):\n",
      "    \"\"\"Computes the average likelihood over all hypothesis in suite.\n",
      "\n",
      "    Args:\n",
      "      suite: Suite of hypotheses\n",
      "      data: some representation of the observed data\n",
      "\n",
      "    Returns:\n",
      "      float\n",
      "    \"\"\"\n",
      "    total = 0\n",
      "\n",
      "    for hypo, prob in suite.Items():\n",
      "        like = suite.Likelihood(data,hypo)\n",
      "        #data, hypo were reversed by mistake\n",
      "        total += prob * like\n",
      "\n",
      "    return total\n",
      "\n",
      "\n",
      "def main():\n",
      "    fair = Euro()\n",
      "    fair.Set(50, 1)\n",
      "\n",
      "    bias = Euro()\n",
      "    for x in range(0, 101):\n",
      "        if x != 50:\n",
      "            bias.Set(x, 1)\n",
      "    bias.Normalize()\n",
      "\n",
      "    # notice that we've changed the representation of the data\n",
      "    data = 140, 110\n",
      "\n",
      "    like_bias = AverageLikelihood(bias, data)\n",
      "    print 'like_bias', like_bias\n",
      "\n",
      "    like_fair = AverageLikelihood(fair, data)\n",
      "    print 'like_fair', like_fair\n",
      "\n",
      "    ratio = like_bias / like_fair\n",
      "    print 'Bayes factor', ratio\n",
      "\n",
      "    \n",
      "if __name__ == '__main__':\n",
      "    main()\n",
      "\n",
      "    #Hypothesis: bias over fair\n",
      "    #likelihood of fair is higher than biased.\n",
      "    # so H\n",
      "    #evidence against B, by a factor of about 1.\n",
      "    #1 would give no info. equally likely.\n",
      "    \n",
      "    #could put that in percentages.\n",
      "    #"
     ],
     "language": "python",
     "metadata": {},
     "outputs": [
      {
       "output_type": "stream",
       "stream": "stdout",
       "text": [
        "like_bias 2.57964902292e-76\n",
        "like_fair 5.52714787526e-76\n",
        "Bayes factor 0.466723359161\n"
       ]
      }
     ],
     "prompt_number": 59
    },
    {
     "cell_type": "code",
     "collapsed": false,
     "input": [
      "%load sat.py"
     ],
     "language": "python",
     "metadata": {},
     "outputs": [],
     "prompt_number": 60
    },
    {
     "cell_type": "code",
     "collapsed": false,
     "input": [
      "\"\"\"This file contains code used in \"Think Bayes\",\n",
      "by Allen B. Downey, available from greenteapress.com\n",
      "\n",
      "Copyright 2012 Allen B. Downey\n",
      "License: GNU GPLv3 http://www.gnu.org/licenses/gpl.html\n",
      "\"\"\"\n",
      "\n",
      "import csv\n",
      "\n",
      "import thinkbayes\n",
      "import thinkplot\n",
      "\n",
      "\n",
      "def ReadScale(filename='sat_scale.csv', col=2):\n",
      "    \"\"\"Reads a CSV file of SAT scales (maps from raw score to standard score).\n",
      "\n",
      "    Args:\n",
      "      filename: string filename\n",
      "      col: which column to start with (0=Reading, 2=Math, 4=Writing)\n",
      "\n",
      "    Returns: thinkbayes.Interpolator object\n",
      "    \"\"\"\n",
      "    def ParseRange(s):\n",
      "        t = [int(x) for x in s.split('-')]\n",
      "        return 1.0 * sum(t) / len(t)\n",
      "\n",
      "    fp = open(filename)\n",
      "    reader = csv.reader(fp)\n",
      "    raws = []\n",
      "    scores = []\n",
      "\n",
      "    for t in reader:\n",
      "        try:\n",
      "            raw = int(t[col])\n",
      "            raws.append(raw)\n",
      "            score = ParseRange(t[col+1])\n",
      "            scores.append(score)\n",
      "        except:\n",
      "            pass\n",
      "\n",
      "    raws.sort()\n",
      "    scores.sort()\n",
      "    return thinkbayes.Interpolator(raws, scores)\n",
      "\n",
      "\n",
      "def ReadRanks(filename='sat_ranks.csv'):\n",
      "    \"\"\"Reads a CSV file of SAT scores.\n",
      "\n",
      "    Args:\n",
      "      filename: string filename\n",
      "\n",
      "    Returns:\n",
      "      list of (score, freq) pairs\n",
      "    \"\"\"\n",
      "    fp = open(filename)\n",
      "    reader = csv.reader(fp)\n",
      "    res = []\n",
      "\n",
      "    for t in reader:\n",
      "        try:\n",
      "            score = int(t[0])\n",
      "            freq = int(t[1])\n",
      "            res.append((score, freq))\n",
      "        except ValueError:\n",
      "            pass\n",
      "\n",
      "    return res\n",
      "\n",
      "\n",
      "def DivideValues(pmf, denom):\n",
      "    \"\"\"Divides the values in a Pmf by denom.\n",
      "\n",
      "    Returns a new Pmf.\n",
      "    \"\"\"\n",
      "    new = thinkbayes.Pmf()\n",
      "    denom = float(denom)\n",
      "    for val, prob in pmf.Items():\n",
      "        x = val / denom\n",
      "        new.Set(x, prob)\n",
      "    return new\n",
      "\n",
      "\n",
      "class Exam(object):\n",
      "    \"\"\"Encapsulates information about an exam.\n",
      "\n",
      "    Contains the distribution of scaled scores and an\n",
      "    Interpolator that maps between scaled and raw scores.\n",
      "    \"\"\"\n",
      "    def __init__(self):\n",
      "        self.scale = ReadScale()\n",
      "\n",
      "        scores = ReadRanks()\n",
      "        score_pmf = thinkbayes.MakePmfFromDict(dict(scores))\n",
      "\n",
      "        self.raw = self.ReverseScale(score_pmf)\n",
      "        self.max_score = max(self.raw.Values())\n",
      "        self.prior = DivideValues(self.raw, denom=self.max_score)\n",
      "\n",
      "    def Lookup(self, raw):\n",
      "        \"\"\"Looks up a raw score and returns a scaled score.\"\"\"\n",
      "        return self.scale.Lookup(raw)\n",
      "        \n",
      "    def Reverse(self, score):\n",
      "        \"\"\"Looks up a scaled score and returns a raw score.\n",
      "\n",
      "        Since we ignore the penalty, negative scores round up to zero.\n",
      "        \"\"\"\n",
      "        raw = self.scale.Reverse(score)\n",
      "        return raw if raw > 0 else 0\n",
      "        \n",
      "    def ReverseScale(self, pmf):\n",
      "        \"\"\"Applies the reverse scale to the values of a PMF.\n",
      "\n",
      "        Args:\n",
      "            pmf: Pmf object\n",
      "            scale: Interpolator object\n",
      "\n",
      "        Returns:\n",
      "            new Pmf\n",
      "        \"\"\"\n",
      "        new = thinkbayes.Pmf()\n",
      "        for val, prob in pmf.Items():\n",
      "            raw = self.Reverse(val)\n",
      "            new.Incr(raw, prob)\n",
      "        return new\n",
      "\n",
      "\n",
      "class Sat(thinkbayes.Suite):\n",
      "    \"\"\"Represents the distribution of efficacy for a test-taker.\"\"\"\n",
      "\n",
      "    def __init__(self, exam):\n",
      "        thinkbayes.Suite.__init__(self)\n",
      "\n",
      "        self.exam = exam\n",
      "\n",
      "        # start with the prior distribution\n",
      "        for x, prob in exam.prior.Items():\n",
      "            self.Set(x, prob)\n",
      "\n",
      "    def Likelihood(self, data, hypo):\n",
      "        \"\"\"Computes the likelihood of a test score, given x.\"\"\"\n",
      "        x = hypo\n",
      "        score = data\n",
      "        raw = self.exam.Reverse(score)\n",
      "\n",
      "        yes, no = raw, self.exam.max_score - raw\n",
      "        like = x**yes * (1-x)**no\n",
      "        return like\n",
      "\n",
      "\n",
      "def PmfProbGreater(pmf1, pmf2):\n",
      "    \"\"\"Probability that a value from pmf1 is less than a value from pmf2.\n",
      "\n",
      "    Args:\n",
      "        pmf1: Pmf object\n",
      "        pmf2: Pmf object\n",
      "\n",
      "    Returns:\n",
      "        float probability\n",
      "    \"\"\"\n",
      "    total = 0.0\n",
      "    for x1, p1 in pmf1.Items():\n",
      "        for x2, p2 in pmf2.Items():\n",
      "            # Fill this in!\n",
      "            if x1 > x2:\n",
      "                total += p1*p2\n",
      "            \n",
      "            \n",
      "#+= increment by \n",
      "#weight p1*p2\n",
      "\n",
      "    return total\n",
      "\n",
      "\n",
      "def main():\n",
      "\n",
      "    exam = Exam()\n",
      "\n",
      "    alice = Sat(exam)\n",
      "    alice.name = 'alice'\n",
      "    alice.Update(780)\n",
      "\n",
      "    bob = Sat(exam)\n",
      "    bob.name = 'bob'\n",
      "    bob.Update(760)\n",
      "\n",
      "    print 'Prob Alice is \"smarter\":', PmfProbGreater(alice, bob)\n",
      "    print 'Prob Bob is \"smarter\":', PmfProbGreater(bob, alice)\n",
      "\n",
      "    thinkplot.Pmfs([alice, bob])\n",
      "    thinkplot.Show(xlabel='x',\n",
      "                   ylabel='Probability')\n",
      "\n",
      "    ## copying this from above.\n",
      "    # change bias to alice?\n",
      "    # fair to bob?\n",
      "    #should be less than 2.\n",
      "    \n",
      "    like_alice = AverageLikelihood(alice, exam)\n",
      "    print 'like_alice', like_alice\n",
      "\n",
      "    like_bob = AverageLikelihood(bob, exam)\n",
      "    print 'like_bob', like_bob\n",
      "\n",
      "    ratio = like_alice / like_bob\n",
      "    print 'Bayes factor', ratio\n",
      "\n",
      "   #pmf is a dictionary -- maps states to prob value. \n",
      "    \n",
      "if __name__ == '__main__':\n",
      "    main()\n",
      "\n",
      "    \n",
      "    # results\n",
      "#Prob Alice is \"smarter\": 0.607795882633\n",
      "#Prob Bob is \"smarter\": 0.28125772533\n",
      "    # possibility of a tie\n",
      "    #20 point difference-- weak evidence of increase abiliy to answer SAT questions.\n",
      "    \n",
      "#    work backwards -- Bayes factor a little less than two."
     ],
     "language": "python",
     "metadata": {},
     "outputs": [
      {
       "output_type": "stream",
       "stream": "stdout",
       "text": [
        "Prob Alice is \"smarter\": 0.607795882633\n",
        "Prob Bob is \"smarter\": 0.28125772533\n"
       ]
      },
      {
       "metadata": {},
       "output_type": "display_data",
       "png": "[encoded data removed]",
       "text": [
        "<matplotlib.figure.Figure at 0x7f8e20a56750>"
       ]
      },
      {
       "output_type": "stream",
       "stream": "stdout",
       "text": [
        "like_alice 0.17755277479\n",
        "like_bob 0.0980901022587\n",
        "Bayes factor 1.81009878369\n"
       ]
      }
     ],
     "prompt_number": 66
    },
    {
     "cell_type": "code",
     "collapsed": false,
     "input": [
      "   #Hypothesis: alice over bob\n",
      "    # since Bayes likelihood of alice is higher than likelihood of bob.\n",
      "    # \n",
      "    #evidence for alice, by a factor of about 2.\n",
      "    ## note: 1 would give no info. equally likely.\n",
      "    \n",
      "    # could put that in percentages.\n",
      "    #\n",
      "    \n",
      "    like_alice 0.17755277479\n",
      "like_bob 0.0980901022587\n",
      "Bayes factor 1.81009878369\n",
      "\n",
      "\n",
      "#like_bias 2.57964902292e-76\n",
      "#like_fair 5.52714787526e-76\n",
      "#Bayes factor 0.466723359161"
     ],
     "language": "python",
     "metadata": {},
     "outputs": []
    }
   ],
   "metadata": {}
  }
 ]
}